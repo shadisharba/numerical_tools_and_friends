{
 "cells": [
  {
   "cell_type": "markdown",
   "metadata": {},
   "source": [
    "# DAE Thesis Topic Database crawler"
   ]
  },
  {
   "cell_type": "code",
   "execution_count": 95,
   "metadata": {
    "ExecuteTime": {
     "end_time": "2021-07-19T21:26:41.809862Z",
     "start_time": "2021-07-19T21:26:41.799017Z"
    }
   },
   "outputs": [],
   "source": [
    "import numpy\n",
    "import matplotlib.pyplot as plt\n",
    "import json\n",
    "import sys\n",
    "import os\n",
    "from os.path import exists\n",
    "from pathlib import Path\n",
    "\n",
    "\n",
    "def read_db(path='.'):\n",
    "    \"\"\"Find all JSON files in path.\n",
    "    Assemble a list of entries for further processing, e.g. filtering.\n",
    "    :param path: path where to look for JSON files, defaults to '.'\n",
    "    :type path: str\n",
    "    :return: database of all thesis topics\n",
    "    :rtype: list\n",
    "    \"\"\"\n",
    "    db = []\n",
    "    json_list = []\n",
    "    # step 1: build a list of all json files in the folder\n",
    "    json_list = list(Path(path).rglob('*.json'))\n",
    "    # step 2: read each of the json files one by one\n",
    "    # step 3: append them alongside the filename into list\n",
    "    for json_file in json_list:\n",
    "        db.append({'file': json_file, **json.loads(json_file.read_bytes())})\n",
    "    # step 4: return the database\n",
    "    return db\n",
    "\n",
    "\n",
    "def check_db(db):\n",
    "    \"\"\"Check if the DB contains year, month, day field and title for each entry\n",
    "    and if the PDF file exists\n",
    "\n",
    "    :param db: list extracted form the JSON files\n",
    "    :type db: list\n",
    "    :return: False if the date is not available or if the PDF file\n",
    "        is nonexisting (or has the wrong name)\n",
    "    :rtype: bool\n",
    "    \"\"\"\n",
    "    for x in db:\n",
    "        sc = ('year' in x) and ('month' in x) and ('day' in x)\n",
    "        if (not sc):\n",
    "            return False\n",
    "        fname = x['file'].with_suffix('.pdf')\n",
    "        print(fname)\n",
    "        if (not exists(fname)):\n",
    "            return False\n",
    "    return True\n",
    "\n",
    "\n",
    "def filter_db(db, field, value, exact_match=False):\n",
    "    \"\"\"filter the database by values of a certain field\n",
    "    :param db: [description]\n",
    "    :type db: [type]\n",
    "    :param field: name of the field to apply the filter to\n",
    "    :type field: string\n",
    "    :param value: value to check\n",
    "    :type value: misc\n",
    "    :param exact_match: check for 100% matching string (if True);\n",
    "        else: check if string is contained, defaults to False\n",
    "    :type exact_match: bool, optional\n",
    "    :return: [description]\n",
    "    :rtype: [type]\n",
    "    \"\"\"\n",
    "    idx = []\n",
    "    for i, db_element in enumerate(db):\n",
    "        sc = False\n",
    "        if (exact_match):\n",
    "            sc = db_element[field] == value\n",
    "        else:\n",
    "            if type(db_element[field]) == str:\n",
    "                sc = value in db_element[field]\n",
    "            else:\n",
    "                sc = db_element[field] == value\n",
    "        if (sc):\n",
    "            idx.append(i)\n",
    "\n",
    "    return idx\n",
    "\n",
    "\n",
    "def filter_db_date(db, start_date={'year': 2020, 'month': 1, 'day': 1}, end_date={'year': 2999, 'month': 12, 'day': 31}):\n",
    "    idx = []\n",
    "    start = start_date['year'] * 372 + start_date['month'] * 31 + start_date['day']\n",
    "    end = end_date['year'] * 372 + end_date['month'] * 31 + end_date['day']\n",
    "    \n",
    "    for i, db_element in enumerate(db):\n",
    "        sc = False\n",
    "        d = db_element['year'] * 372 + \\\n",
    "            db_element['month'] * 31 + db_element['day']\n",
    "        if (d >= start and d <= end):\n",
    "            idx.append(i)\n",
    "\n",
    "    return idx"
   ]
  },
  {
   "cell_type": "code",
   "execution_count": 98,
   "metadata": {
    "ExecuteTime": {
     "end_time": "2021-07-19T21:27:01.633041Z",
     "start_time": "2021-07-19T21:27:01.612714Z"
    },
    "scrolled": true
   },
   "outputs": [
    {
     "name": "stdout",
     "output_type": "stream",
     "text": [
      "current/SA_AIF_Indentation_LS-Dyna/SA_MSc_indentation_test_ff.pdf\n"
     ]
    },
    {
     "data": {
      "text/plain": [
       "[0]"
      ]
     },
     "execution_count": 98,
     "metadata": {},
     "output_type": "execute_result"
    }
   ],
   "source": [
    "# Demo 1: build a database based on the files inside the folder called \"./current\"\n",
    "db = read_db('./current')\n",
    "check_db(db)\n",
    "filter_db(db,'email','alameddin',False)\n",
    "# filter_db_date( db,start_date = { 'year': 2020, 'month': 1, 'day': 1 }, end_date = { 'year': 2999, 'month': 12, 'day': 31 })"
   ]
  },
  {
   "cell_type": "code",
   "execution_count": null,
   "metadata": {},
   "outputs": [],
   "source": []
  }
 ],
 "metadata": {
  "interpreter": {
   "hash": "7c22bb836da0a9090062a86588605afc497f834d775d17c5493dd7453c059b35"
  },
  "kernelspec": {
   "display_name": "Python 3",
   "language": "python",
   "name": "python3"
  },
  "language_info": {
   "codemirror_mode": {
    "name": "ipython",
    "version": 3
   },
   "file_extension": ".py",
   "mimetype": "text/x-python",
   "name": "python",
   "nbconvert_exporter": "python",
   "pygments_lexer": "ipython3",
   "version": "3.8.10"
  },
  "toc": {
   "base_numbering": 1,
   "nav_menu": {},
   "number_sections": true,
   "sideBar": true,
   "skip_h1_title": false,
   "title_cell": "Table of Contents",
   "title_sidebar": "Contents",
   "toc_cell": false,
   "toc_position": {},
   "toc_section_display": true,
   "toc_window_display": false
  },
  "varInspector": {
   "cols": {
    "lenName": 16,
    "lenType": 16,
    "lenVar": 40
   },
   "kernels_config": {
    "python": {
     "delete_cmd_postfix": "",
     "delete_cmd_prefix": "del ",
     "library": "var_list.py",
     "varRefreshCmd": "print(var_dic_list())"
    },
    "r": {
     "delete_cmd_postfix": ") ",
     "delete_cmd_prefix": "rm(",
     "library": "var_list.r",
     "varRefreshCmd": "cat(var_dic_list()) "
    }
   },
   "types_to_exclude": [
    "module",
    "function",
    "builtin_function_or_method",
    "instance",
    "_Feature"
   ],
   "window_display": false
  }
 },
 "nbformat": 4,
 "nbformat_minor": 2
}
