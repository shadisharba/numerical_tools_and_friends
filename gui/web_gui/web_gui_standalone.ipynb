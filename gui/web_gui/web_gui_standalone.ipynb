{
 "cells": [
  {
   "cell_type": "markdown",
   "metadata": {
    "collapsed": true,
    "pycharm": {
     "name": "#%% md\n"
    }
   },
   "source": [
    "[flexx](https://github.com/flexxui/flexx)\n",
    "\n",
    "[pywebview](https://github.com/r0x0r/pywebview/)"
   ]
  },
  {
   "cell_type": "code",
   "execution_count": 1,
   "metadata": {
    "collapsed": false,
    "pycharm": {
     "name": "#%%\n"
    }
   },
   "outputs": [],
   "source": [
    "# pip install flexx\n",
    "# pip install pywebview[qt]\n",
    "\n",
    "import webview\n",
    "webview.create_window('Hello world', 'https://pywebview.flowrl.com/')\n",
    "webview.start()"
   ]
  },
  {
   "cell_type": "code",
   "execution_count": 2,
   "metadata": {
    "collapsed": false,
    "pycharm": {
     "name": "#%%\n"
    }
   },
   "outputs": [],
   "source": [
    "import webview\n",
    "\n",
    "\"\"\"\n",
    "This example demonstrates how to create a frameless window with a custom minimum\n",
    "size.\n",
    "\"\"\"\n",
    "\n",
    "if __name__ == '__main__':\n",
    "    # Create a resizable webview window with minimum size constraints\n",
    "    webview.create_window('Frameless window',\n",
    "                          'http://pywebview.flowrl.com/hello',\n",
    "                          frameless=True)\n",
    "    webview.start()"
   ]
  }
 ],
 "metadata": {
  "kernelspec": {
   "display_name": "Python 3",
   "language": "python",
   "name": "python3"
  },
  "language_info": {
   "codemirror_mode": {
    "name": "ipython",
    "version": 3
   },
   "file_extension": ".py",
   "mimetype": "text/x-python",
   "name": "python",
   "nbconvert_exporter": "python",
   "pygments_lexer": "ipython3",
   "version": "3.11.9"
  }
 },
 "nbformat": 4,
 "nbformat_minor": 0
}
