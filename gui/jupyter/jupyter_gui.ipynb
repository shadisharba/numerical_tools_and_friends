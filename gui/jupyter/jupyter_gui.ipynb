{
  "cells": [
    {
      "cell_type": "markdown",
      "metadata": {
        "id": "_ggaEho07q6t"
      },
      "source": [
        "# Setup"
      ]
    },
    {
      "cell_type": "markdown",
      "metadata": {
        "id": "UHMPV13h7uwP"
      },
      "source": [
        "## Install Dependencies"
      ]
    },
    {
      "cell_type": "code",
      "execution_count": 6,
      "metadata": {
        "id": "WRXYASy-3lDZ"
      },
      "outputs": [],
      "source": [
        "# !git clone https://github.com/luyug/pal"
      ]
    },
    {
      "cell_type": "markdown",
      "metadata": {
        "id": "g4csR6HX7h-B"
      },
      "source": [
        "## Configure Openai API"
      ]
    },
    {
      "cell_type": "code",
      "execution_count": 7,
      "metadata": {
        "id": "Ba0ycacK4i1V"
      },
      "outputs": [],
      "source": [
        "openai = '' #@param {type:\"string\"}\n",
        "MODEL = 'code-davinci-001' #@param {type:\"string\"}"
      ]
    },
    {
      "cell_type": "code",
      "execution_count": 8,
      "metadata": {
        "id": "H_qTZkXg42V4"
      },
      "outputs": [
        {
          "data": {
            "text/plain": [
              "2"
            ]
          },
          "execution_count": 8,
          "metadata": {},
          "output_type": "execute_result"
        }
      ],
      "source": [
        "1+1"
      ]
    },
    {
      "cell_type": "markdown",
      "metadata": {
        "id": "12PptLdv5HkK"
      },
      "source": [
        "# GSM-8K"
      ]
    }
  ],
  "metadata": {
    "colab": {
      "provenance": []
    },
    "kernelspec": {
      "display_name": "Python 3",
      "name": "python3"
    },
    "language_info": {
      "codemirror_mode": {
        "name": "ipython",
        "version": 3
      },
      "file_extension": ".py",
      "mimetype": "text/x-python",
      "name": "python",
      "nbconvert_exporter": "python",
      "pygments_lexer": "ipython3",
      "version": "3.11.9"
    }
  },
  "nbformat": 4,
  "nbformat_minor": 0
}
